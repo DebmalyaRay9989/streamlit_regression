{
 "cells": [
  {
   "cell_type": "code",
   "execution_count": 1,
   "metadata": {},
   "outputs": [],
   "source": [
    "from sklearn.datasets import load_iris\n",
    "from sklearn.model_selection import train_test_split\n",
    "from sklearn.preprocessing import StandardScaler\n",
    "from sklearn.decomposition import PCA\n",
    "from sklearn.pipeline import Pipeline\n",
    "from sklearn.linear_model import LinearRegression\n",
    "from sklearn.tree import DecisionTreeRegressor\n",
    "from sklearn.ensemble import RandomForestRegressor"
   ]
  },
  {
   "cell_type": "code",
   "execution_count": 2,
   "metadata": {},
   "outputs": [],
   "source": [
    "###! pip install scikit-learn"
   ]
  },
  {
   "cell_type": "code",
   "execution_count": 3,
   "metadata": {},
   "outputs": [],
   "source": [
    "###! pip install klib"
   ]
  },
  {
   "cell_type": "code",
   "execution_count": 4,
   "metadata": {},
   "outputs": [],
   "source": [
    "import klib"
   ]
  },
  {
   "cell_type": "code",
   "execution_count": 5,
   "metadata": {},
   "outputs": [],
   "source": [
    "import pandas as pd"
   ]
  },
  {
   "cell_type": "code",
   "execution_count": 6,
   "metadata": {},
   "outputs": [],
   "source": [
    "dataframe = pd.read_csv(\"listings (1).csv\", encoding='utf-8')"
   ]
  },
  {
   "cell_type": "code",
   "execution_count": 7,
   "metadata": {},
   "outputs": [
    {
     "data": {
      "text/html": [
       "<div>\n",
       "<style scoped>\n",
       "    .dataframe tbody tr th:only-of-type {\n",
       "        vertical-align: middle;\n",
       "    }\n",
       "\n",
       "    .dataframe tbody tr th {\n",
       "        vertical-align: top;\n",
       "    }\n",
       "\n",
       "    .dataframe thead th {\n",
       "        text-align: right;\n",
       "    }\n",
       "</style>\n",
       "<table border=\"1\" class=\"dataframe\">\n",
       "  <thead>\n",
       "    <tr style=\"text-align: right;\">\n",
       "      <th></th>\n",
       "      <th>id</th>\n",
       "      <th>name</th>\n",
       "      <th>host_id</th>\n",
       "      <th>host_name</th>\n",
       "      <th>neighbourhood_group</th>\n",
       "      <th>neighbourhood</th>\n",
       "      <th>latitude</th>\n",
       "      <th>longitude</th>\n",
       "      <th>room_type</th>\n",
       "      <th>price</th>\n",
       "      <th>minimum_nights</th>\n",
       "      <th>number_of_reviews</th>\n",
       "      <th>last_review</th>\n",
       "      <th>reviews_per_month</th>\n",
       "      <th>calculated_host_listings_count</th>\n",
       "      <th>availability_365</th>\n",
       "      <th>number_of_reviews_ltm</th>\n",
       "      <th>license</th>\n",
       "    </tr>\n",
       "  </thead>\n",
       "  <tbody>\n",
       "    <tr>\n",
       "      <th>0</th>\n",
       "      <td>329172</td>\n",
       "      <td>Hillside designer home,10 min.dwntn</td>\n",
       "      <td>1680871</td>\n",
       "      <td>Janet</td>\n",
       "      <td>NaN</td>\n",
       "      <td>78746</td>\n",
       "      <td>30.30085</td>\n",
       "      <td>-97.80794</td>\n",
       "      <td>Entire home/apt</td>\n",
       "      <td>495</td>\n",
       "      <td>3</td>\n",
       "      <td>7</td>\n",
       "      <td>2022-08-07</td>\n",
       "      <td>0.05</td>\n",
       "      <td>1</td>\n",
       "      <td>363</td>\n",
       "      <td>1</td>\n",
       "      <td>NaN</td>\n",
       "    </tr>\n",
       "    <tr>\n",
       "      <th>1</th>\n",
       "      <td>329306</td>\n",
       "      <td>Urban Homestead, 5 minutes to downtown</td>\n",
       "      <td>880571</td>\n",
       "      <td>Angel</td>\n",
       "      <td>NaN</td>\n",
       "      <td>78702</td>\n",
       "      <td>30.27232</td>\n",
       "      <td>-97.72579</td>\n",
       "      <td>Private room</td>\n",
       "      <td>63</td>\n",
       "      <td>2</td>\n",
       "      <td>570</td>\n",
       "      <td>2022-11-30</td>\n",
       "      <td>4.36</td>\n",
       "      <td>5</td>\n",
       "      <td>55</td>\n",
       "      <td>45</td>\n",
       "      <td>NaN</td>\n",
       "    </tr>\n",
       "  </tbody>\n",
       "</table>\n",
       "</div>"
      ],
      "text/plain": [
       "       id                                    name  host_id host_name  \\\n",
       "0  329172     Hillside designer home,10 min.dwntn  1680871     Janet   \n",
       "1  329306  Urban Homestead, 5 minutes to downtown   880571     Angel   \n",
       "\n",
       "   neighbourhood_group  neighbourhood  latitude  longitude        room_type  \\\n",
       "0                  NaN          78746  30.30085  -97.80794  Entire home/apt   \n",
       "1                  NaN          78702  30.27232  -97.72579     Private room   \n",
       "\n",
       "   price  minimum_nights  number_of_reviews last_review  reviews_per_month  \\\n",
       "0    495               3                  7  2022-08-07               0.05   \n",
       "1     63               2                570  2022-11-30               4.36   \n",
       "\n",
       "   calculated_host_listings_count  availability_365  number_of_reviews_ltm  \\\n",
       "0                               1               363                      1   \n",
       "1                               5                55                     45   \n",
       "\n",
       "   license  \n",
       "0      NaN  \n",
       "1      NaN  "
      ]
     },
     "execution_count": 7,
     "metadata": {},
     "output_type": "execute_result"
    }
   ],
   "source": [
    "dataframe.head(2)"
   ]
  },
  {
   "cell_type": "code",
   "execution_count": 8,
   "metadata": {},
   "outputs": [
    {
     "name": "stdout",
     "output_type": "stream",
     "text": [
      "<class 'pandas.core.frame.DataFrame'>\n",
      "RangeIndex: 13808 entries, 0 to 13807\n",
      "Data columns (total 18 columns):\n",
      " #   Column                          Non-Null Count  Dtype  \n",
      "---  ------                          --------------  -----  \n",
      " 0   id                              13808 non-null  int64  \n",
      " 1   name                            13808 non-null  object \n",
      " 2   host_id                         13808 non-null  int64  \n",
      " 3   host_name                       13806 non-null  object \n",
      " 4   neighbourhood_group             0 non-null      float64\n",
      " 5   neighbourhood                   13808 non-null  int64  \n",
      " 6   latitude                        13808 non-null  float64\n",
      " 7   longitude                       13808 non-null  float64\n",
      " 8   room_type                       13808 non-null  object \n",
      " 9   price                           13808 non-null  int64  \n",
      " 10  minimum_nights                  13808 non-null  int64  \n",
      " 11  number_of_reviews               13808 non-null  int64  \n",
      " 12  last_review                     10948 non-null  object \n",
      " 13  reviews_per_month               10948 non-null  float64\n",
      " 14  calculated_host_listings_count  13808 non-null  int64  \n",
      " 15  availability_365                13808 non-null  int64  \n",
      " 16  number_of_reviews_ltm           13808 non-null  int64  \n",
      " 17  license                         0 non-null      float64\n",
      "dtypes: float64(5), int64(9), object(4)\n",
      "memory usage: 1.7+ MB\n"
     ]
    }
   ],
   "source": [
    "dataframe.info()"
   ]
  },
  {
   "cell_type": "code",
   "execution_count": 9,
   "metadata": {},
   "outputs": [
    {
     "data": {
      "text/plain": [
       "id                                    0\n",
       "name                                  0\n",
       "host_id                               0\n",
       "host_name                             2\n",
       "neighbourhood_group               13808\n",
       "neighbourhood                         0\n",
       "latitude                              0\n",
       "longitude                             0\n",
       "room_type                             0\n",
       "price                                 0\n",
       "minimum_nights                        0\n",
       "number_of_reviews                     0\n",
       "last_review                        2860\n",
       "reviews_per_month                  2860\n",
       "calculated_host_listings_count        0\n",
       "availability_365                      0\n",
       "number_of_reviews_ltm                 0\n",
       "license                           13808\n",
       "dtype: int64"
      ]
     },
     "execution_count": 9,
     "metadata": {},
     "output_type": "execute_result"
    }
   ],
   "source": [
    "dataframe.isnull().sum()"
   ]
  },
  {
   "cell_type": "code",
   "execution_count": 10,
   "metadata": {},
   "outputs": [],
   "source": [
    "dataframe.drop(columns = {\"neighbourhood_group\"}, inplace=True)\n",
    "dataframe.drop(columns = {\"last_review\"}, inplace=True)"
   ]
  },
  {
   "cell_type": "code",
   "execution_count": 11,
   "metadata": {},
   "outputs": [],
   "source": [
    "dataframe.drop(columns = {\"reviews_per_month\"}, inplace=True)\n",
    "dataframe.drop(columns = {\"license\"}, inplace=True)"
   ]
  },
  {
   "cell_type": "code",
   "execution_count": 12,
   "metadata": {},
   "outputs": [
    {
     "name": "stdout",
     "output_type": "stream",
     "text": [
      "<class 'pandas.core.frame.DataFrame'>\n",
      "RangeIndex: 13808 entries, 0 to 13807\n",
      "Data columns (total 14 columns):\n",
      " #   Column                          Non-Null Count  Dtype  \n",
      "---  ------                          --------------  -----  \n",
      " 0   id                              13808 non-null  int64  \n",
      " 1   name                            13808 non-null  object \n",
      " 2   host_id                         13808 non-null  int64  \n",
      " 3   host_name                       13806 non-null  object \n",
      " 4   neighbourhood                   13808 non-null  int64  \n",
      " 5   latitude                        13808 non-null  float64\n",
      " 6   longitude                       13808 non-null  float64\n",
      " 7   room_type                       13808 non-null  object \n",
      " 8   price                           13808 non-null  int64  \n",
      " 9   minimum_nights                  13808 non-null  int64  \n",
      " 10  number_of_reviews               13808 non-null  int64  \n",
      " 11  calculated_host_listings_count  13808 non-null  int64  \n",
      " 12  availability_365                13808 non-null  int64  \n",
      " 13  number_of_reviews_ltm           13808 non-null  int64  \n",
      "dtypes: float64(2), int64(9), object(3)\n",
      "memory usage: 1.3+ MB\n",
      "None\n"
     ]
    }
   ],
   "source": [
    "print(dataframe.info())"
   ]
  },
  {
   "cell_type": "code",
   "execution_count": 13,
   "metadata": {},
   "outputs": [],
   "source": [
    "dataframe = dataframe.fillna(method ='pad')"
   ]
  },
  {
   "cell_type": "code",
   "execution_count": 14,
   "metadata": {},
   "outputs": [
    {
     "data": {
      "text/plain": [
       "id                                0\n",
       "name                              0\n",
       "host_id                           0\n",
       "host_name                         0\n",
       "neighbourhood                     0\n",
       "latitude                          0\n",
       "longitude                         0\n",
       "room_type                         0\n",
       "price                             0\n",
       "minimum_nights                    0\n",
       "number_of_reviews                 0\n",
       "calculated_host_listings_count    0\n",
       "availability_365                  0\n",
       "number_of_reviews_ltm             0\n",
       "dtype: int64"
      ]
     },
     "execution_count": 14,
     "metadata": {},
     "output_type": "execute_result"
    }
   ],
   "source": [
    "dataframe.isnull().sum()"
   ]
  },
  {
   "cell_type": "code",
   "execution_count": 15,
   "metadata": {},
   "outputs": [],
   "source": [
    "dataframe = klib.convert_datatypes(dataframe) "
   ]
  },
  {
   "cell_type": "code",
   "execution_count": 16,
   "metadata": {},
   "outputs": [
    {
     "name": "stdout",
     "output_type": "stream",
     "text": [
      "<class 'pandas.core.frame.DataFrame'>\n",
      "RangeIndex: 13808 entries, 0 to 13807\n",
      "Data columns (total 14 columns):\n",
      " #   Column                          Non-Null Count  Dtype   \n",
      "---  ------                          --------------  -----   \n",
      " 0   id                              13808 non-null  int64   \n",
      " 1   name                            13808 non-null  string  \n",
      " 2   host_id                         13808 non-null  int32   \n",
      " 3   host_name                       13808 non-null  string  \n",
      " 4   neighbourhood                   13808 non-null  int32   \n",
      " 5   latitude                        13808 non-null  float32 \n",
      " 6   longitude                       13808 non-null  float32 \n",
      " 7   room_type                       13808 non-null  category\n",
      " 8   price                           13808 non-null  int32   \n",
      " 9   minimum_nights                  13808 non-null  int16   \n",
      " 10  number_of_reviews               13808 non-null  int16   \n",
      " 11  calculated_host_listings_count  13808 non-null  int16   \n",
      " 12  availability_365                13808 non-null  int16   \n",
      " 13  number_of_reviews_ltm           13808 non-null  int16   \n",
      "dtypes: category(1), float32(2), int16(5), int32(3), int64(1), string(2)\n",
      "memory usage: 633.9 KB\n",
      "None\n"
     ]
    }
   ],
   "source": [
    "print(dataframe.info())"
   ]
  },
  {
   "cell_type": "code",
   "execution_count": 17,
   "metadata": {},
   "outputs": [],
   "source": [
    "dataframe['room_type'] = dataframe['room_type'].astype('category').cat.codes"
   ]
  },
  {
   "cell_type": "code",
   "execution_count": 18,
   "metadata": {},
   "outputs": [],
   "source": [
    "dataframe['host_name'] = dataframe['host_name'].astype('category').cat.codes\n",
    "dataframe['name'] = dataframe['name'].astype('category').cat.codes"
   ]
  },
  {
   "cell_type": "code",
   "execution_count": 19,
   "metadata": {},
   "outputs": [],
   "source": [
    "from sklearn.linear_model import Lasso\n",
    "\n",
    "from sklearn.feature_selection import SelectFromModel"
   ]
  },
  {
   "cell_type": "code",
   "execution_count": 20,
   "metadata": {},
   "outputs": [],
   "source": [
    "from sklearn.model_selection import train_test_split\n",
    "\n",
    "training_data, testing_data = train_test_split(dataframe, test_size=0.2, random_state=25)"
   ]
  },
  {
   "cell_type": "code",
   "execution_count": 21,
   "metadata": {},
   "outputs": [
    {
     "name": "stdout",
     "output_type": "stream",
     "text": [
      "(11046, 14) (2762, 14)\n"
     ]
    }
   ],
   "source": [
    "print(training_data.shape, testing_data.shape)"
   ]
  },
  {
   "cell_type": "code",
   "execution_count": 22,
   "metadata": {},
   "outputs": [],
   "source": [
    "from sklearn.linear_model import Lasso\n",
    "\n",
    "from sklearn.feature_selection import SelectFromModel"
   ]
  },
  {
   "cell_type": "code",
   "execution_count": 23,
   "metadata": {},
   "outputs": [],
   "source": [
    "model = SelectFromModel(Lasso(alpha=0.005,random_state=0))"
   ]
  },
  {
   "cell_type": "code",
   "execution_count": 24,
   "metadata": {},
   "outputs": [],
   "source": [
    "X_train = training_data.drop(columns = \"price\")\n",
    "X_test = testing_data.drop(columns = \"price\")"
   ]
  },
  {
   "cell_type": "code",
   "execution_count": 25,
   "metadata": {},
   "outputs": [],
   "source": [
    "y_train = training_data[\"price\"]\n",
    "y_test = testing_data[\"price\"]"
   ]
  },
  {
   "cell_type": "code",
   "execution_count": 26,
   "metadata": {},
   "outputs": [
    {
     "name": "stdout",
     "output_type": "stream",
     "text": [
      "(11046, 13) (11046,)\n",
      "(2762, 13) (2762,)\n"
     ]
    }
   ],
   "source": [
    "print(X_train.shape, y_train.shape)\n",
    "print(X_test.shape, y_test.shape)"
   ]
  },
  {
   "cell_type": "code",
   "execution_count": 27,
   "metadata": {},
   "outputs": [
    {
     "name": "stderr",
     "output_type": "stream",
     "text": [
      "c:\\Users\\HP\\AppData\\Local\\Programs\\Python\\Python36-32\\lib\\site-packages\\sklearn\\linear_model\\_coordinate_descent.py:532: ConvergenceWarning: Objective did not converge. You might want to increase the number of iterations. Duality gap: 11976447013.041044, tolerance: 2412300.617769551\n",
      "  positive)\n"
     ]
    },
    {
     "data": {
      "text/plain": [
       "SelectFromModel(estimator=Lasso(alpha=0.005, random_state=0))"
      ]
     },
     "execution_count": 27,
     "metadata": {},
     "output_type": "execute_result"
    }
   ],
   "source": [
    "model.fit(X_train, y_train)"
   ]
  },
  {
   "cell_type": "code",
   "execution_count": 28,
   "metadata": {},
   "outputs": [
    {
     "data": {
      "text/plain": [
       "array([False,  True, False,  True,  True,  True,  True,  True,  True,\n",
       "        True,  True,  True,  True])"
      ]
     },
     "execution_count": 28,
     "metadata": {},
     "output_type": "execute_result"
    }
   ],
   "source": [
    "model.get_support()"
   ]
  },
  {
   "cell_type": "code",
   "execution_count": 29,
   "metadata": {},
   "outputs": [],
   "source": [
    "selected_features = X_train.columns[(model.get_support())]"
   ]
  },
  {
   "cell_type": "code",
   "execution_count": 30,
   "metadata": {},
   "outputs": [],
   "source": [
    "X_train = X_train[selected_features]\n",
    "X_test = X_test[selected_features]"
   ]
  },
  {
   "cell_type": "code",
   "execution_count": 31,
   "metadata": {},
   "outputs": [
    {
     "name": "stdout",
     "output_type": "stream",
     "text": [
      "(11046, 11) (11046,)\n",
      "(2762, 11) (2762,)\n"
     ]
    }
   ],
   "source": [
    "print(X_train.shape,y_train.shape)\n",
    "print(X_test.shape,y_test.shape)"
   ]
  },
  {
   "cell_type": "code",
   "execution_count": 33,
   "metadata": {},
   "outputs": [],
   "source": [
    "X_train = pd.DataFrame(X_train)\n",
    "X_test = pd.DataFrame(X_test)"
   ]
  },
  {
   "cell_type": "code",
   "execution_count": 35,
   "metadata": {},
   "outputs": [],
   "source": [
    "y_train = pd.DataFrame(y_train)\n",
    "y_test = pd.DataFrame(y_test)"
   ]
  },
  {
   "cell_type": "code",
   "execution_count": 36,
   "metadata": {},
   "outputs": [
    {
     "name": "stdout",
     "output_type": "stream",
     "text": [
      "Index(['name', 'host_name', 'neighbourhood', 'latitude', 'longitude',\n",
      "       'room_type', 'minimum_nights', 'number_of_reviews',\n",
      "       'calculated_host_listings_count', 'availability_365',\n",
      "       'number_of_reviews_ltm'],\n",
      "      dtype='object') Index(['price'], dtype='object')\n",
      "Index(['name', 'host_name', 'neighbourhood', 'latitude', 'longitude',\n",
      "       'room_type', 'minimum_nights', 'number_of_reviews',\n",
      "       'calculated_host_listings_count', 'availability_365',\n",
      "       'number_of_reviews_ltm'],\n",
      "      dtype='object') Index(['price'], dtype='object')\n"
     ]
    }
   ],
   "source": [
    "print(X_train.columns,y_train.columns)\n",
    "print(X_test.columns,y_test.columns)"
   ]
  },
  {
   "cell_type": "code",
   "execution_count": 38,
   "metadata": {},
   "outputs": [],
   "source": [
    "model_rf = RandomForestRegressor()"
   ]
  },
  {
   "cell_type": "code",
   "execution_count": 39,
   "metadata": {},
   "outputs": [
    {
     "name": "stderr",
     "output_type": "stream",
     "text": [
      "C:\\Users\\HP\\AppData\\Roaming\\Python\\Python36\\site-packages\\ipykernel_launcher.py:1: DataConversionWarning: A column-vector y was passed when a 1d array was expected. Please change the shape of y to (n_samples,), for example using ravel().\n",
      "  \"\"\"Entry point for launching an IPython kernel.\n"
     ]
    },
    {
     "data": {
      "text/plain": [
       "RandomForestRegressor()"
      ]
     },
     "execution_count": 39,
     "metadata": {},
     "output_type": "execute_result"
    }
   ],
   "source": [
    "model_rf.fit(X_train, y_train)"
   ]
  },
  {
   "cell_type": "code",
   "execution_count": 41,
   "metadata": {},
   "outputs": [],
   "source": [
    "y_pred_rf = model_rf.predict(X_test)"
   ]
  },
  {
   "cell_type": "code",
   "execution_count": 42,
   "metadata": {},
   "outputs": [],
   "source": [
    "from sklearn.metrics import mean_absolute_error\n",
    "from sklearn.metrics import mean_squared_error\n",
    "from sklearn.metrics import mean_absolute_percentage_error"
   ]
  },
  {
   "cell_type": "code",
   "execution_count": 43,
   "metadata": {},
   "outputs": [
    {
     "name": "stdout",
     "output_type": "stream",
     "text": [
      "Mean Absolute Error 187.66913468501085\n",
      "Mean Squared Error 311009.59030199127\n",
      "Mean Absolute Percentage Error 1772839873589735.2\n"
     ]
    }
   ],
   "source": [
    "print(\"Mean Absolute Error\",mean_absolute_error(y_test,y_pred_rf))\n",
    "print(\"Mean Squared Error\",mean_squared_error(y_test,y_pred_rf))\n",
    "print(\"Mean Absolute Percentage Error\",mean_absolute_percentage_error(y_test,y_pred_rf))"
   ]
  },
  {
   "cell_type": "code",
   "execution_count": 45,
   "metadata": {},
   "outputs": [],
   "source": [
    "from sklearn.ensemble import GradientBoostingRegressor"
   ]
  },
  {
   "cell_type": "code",
   "execution_count": 46,
   "metadata": {},
   "outputs": [],
   "source": [
    "model_gb = GradientBoostingRegressor()"
   ]
  },
  {
   "cell_type": "code",
   "execution_count": 47,
   "metadata": {},
   "outputs": [
    {
     "name": "stderr",
     "output_type": "stream",
     "text": [
      "c:\\Users\\HP\\AppData\\Local\\Programs\\Python\\Python36-32\\lib\\site-packages\\sklearn\\utils\\validation.py:63: DataConversionWarning: A column-vector y was passed when a 1d array was expected. Please change the shape of y to (n_samples, ), for example using ravel().\n",
      "  return f(*args, **kwargs)\n"
     ]
    },
    {
     "data": {
      "text/plain": [
       "GradientBoostingRegressor()"
      ]
     },
     "execution_count": 47,
     "metadata": {},
     "output_type": "execute_result"
    }
   ],
   "source": [
    "model_gb.fit(X_train, y_train)"
   ]
  },
  {
   "cell_type": "code",
   "execution_count": 48,
   "metadata": {},
   "outputs": [],
   "source": [
    "y_pred_gb = model_gb.predict(X_test)"
   ]
  },
  {
   "cell_type": "code",
   "execution_count": 49,
   "metadata": {},
   "outputs": [
    {
     "name": "stdout",
     "output_type": "stream",
     "text": [
      "Mean Absolute Error 218.98877277115972\n",
      "Mean Squared Error 1254432.0378269115\n",
      "Mean Absolute Percentage Error 813975003452467.9\n"
     ]
    }
   ],
   "source": [
    "print(\"Mean Absolute Error\",mean_absolute_error(y_test,y_pred_gb))\n",
    "print(\"Mean Squared Error\",mean_squared_error(y_test,y_pred_gb))\n",
    "print(\"Mean Absolute Percentage Error\",mean_absolute_percentage_error(y_test,y_pred_gb))"
   ]
  },
  {
   "cell_type": "code",
   "execution_count": null,
   "metadata": {},
   "outputs": [],
   "source": []
  }
 ],
 "metadata": {
  "kernelspec": {
   "display_name": "Python 3",
   "language": "python",
   "name": "python3"
  },
  "language_info": {
   "codemirror_mode": {
    "name": "ipython",
    "version": 3
   },
   "file_extension": ".py",
   "mimetype": "text/x-python",
   "name": "python",
   "nbconvert_exporter": "python",
   "pygments_lexer": "ipython3",
   "version": "3.6.4"
  },
  "orig_nbformat": 4
 },
 "nbformat": 4,
 "nbformat_minor": 2
}
